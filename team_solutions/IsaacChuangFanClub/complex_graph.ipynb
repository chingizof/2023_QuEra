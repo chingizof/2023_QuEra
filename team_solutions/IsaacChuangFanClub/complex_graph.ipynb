{
 "cells": [
  {
   "cell_type": "code",
   "execution_count": 2,
   "id": "82f5cd6f-40c6-464e-bb8c-0d3c71994807",
   "metadata": {},
   "outputs": [],
   "source": [
    "import numpy as np\n",
    "import json\n",
    "import matplotlib.pyplot as plt\n",
    "from pprint import pprint as pp\n",
    "import networkx as nx"
   ]
  },
  {
   "cell_type": "code",
   "execution_count": null,
   "id": "b6d6a6c6-99e1-415b-9edc-db0541ccb8ae",
   "metadata": {},
   "outputs": [],
   "source": [
    "from braket.aws import AwsDevice\n",
    "\n",
    "qpu = AwsDevice(\"arn:aws:braket:us-east-1::device/qpu/quera/Aquila\")\n",
    "\n",
    "# Capabilities, constraints and performance metrics are stored as 'paradigm' attribute of AwsDevice.\n",
    "capabilities = qpu.properties.paradigm\n",
    "#pp(capabilities.dict())\n",
    "\n",
    "# get C6 coefficient in rad m^6/sec Pull from capabilities attribute\n",
    "C6 = float(capabilities.rydberg.dict()['c6Coefficient'])"
   ]
  },
  {
   "cell_type": "code",
   "execution_count": 8,
   "id": "b2af0d6b-276f-40f3-a7f1-39cdf809a157",
   "metadata": {},
   "outputs": [
    {
     "name": "stdout",
     "output_type": "stream",
     "text": [
      "You have 93 atoms in your graph\n"
     ]
    },
    {
     "data": {
      "image/png": "[encoded data removed]",
      "text/plain": [
       "<Figure size 720x720 with 1 Axes>"
      ]
     },
     "metadata": {},
     "output_type": "display_data"
    }
   ],
   "source": [
    "from iquhack_utils import visualize_graph\n",
    "from math import sqrt\n",
    "\n",
    "def kings_graph(numx,numy,filling=0.7,seed=None,branch_adjust_factor=1):\n",
    "    points = set()\n",
    "    x_len, y_len = 11, 11\n",
    "    \n",
    "    # Builds along y-axis\n",
    "    for x in [0, x_len-1]:\n",
    "        for y in range(y_len):\n",
    "            points.add((x,y))\n",
    "            \n",
    "    # Builds along x-axis\n",
    "    for x in range(x_len):\n",
    "        for y in [0, 5, y_len-1]:\n",
    "            points.add((x,y))\n",
    "            \n",
    "    branch_adjust_factor_large = branch_adjust_factor\n",
    "    branch_adjust_factor_small = 1-branch_adjust_factor_large\n",
    "    \n",
    "    # Builds branches along outer y-axis\n",
    "    x_coords = [0-branch_adjust_factor_large,\n",
    "                x_len-1+branch_adjust_factor_large]\n",
    "    for x in x_coords:\n",
    "        for y in range(0, y_len, 2):\n",
    "            if (x,y) not in [(1, 4), (1, 6), (x_len-2, 4), (x_len-2, 6)]:\n",
    "                points.add((x,y))\n",
    "                \n",
    "    # Builds branches along inner y-axis\n",
    "    x_coords = [1-branch_adjust_factor_small, \n",
    "                x_len-2+branch_adjust_factor_small]\n",
    "    for x in x_coords:\n",
    "        for y in range(2, y_len-2, 2):\n",
    "            if (x,y) not in [(x_coords[0], 4), (x_coords[0], 6), (x_coords[1], 4), (x_coords[1], 6)]:\n",
    "                points.add((x,y))\n",
    "            \n",
    "    # Builds branches along outer x-axis\n",
    "    y_coords = [-1+branch_adjust_factor_small,\n",
    "                y_len-branch_adjust_factor_small]\n",
    "    for y in y_coords:\n",
    "        for x in range(0, x_len, 2):\n",
    "            points.add((x,y))\n",
    "            \n",
    "    \n",
    "    # Builds branches along inner x-axis\n",
    "    y_coords = [1-branch_adjust_factor_small,\n",
    "                4+branch_adjust_factor_small,\n",
    "                6-branch_adjust_factor_small,\n",
    "                y_len-2+branch_adjust_factor_small]\n",
    "    for y in y_coords:\n",
    "        for x in range(2, x_len-2, 2):\n",
    "            points.add((x,y))\n",
    "    \n",
    "    \n",
    "    assert len(points) <= 100\n",
    "    print(f\"You have {len(points)} atoms in your graph\")\n",
    "    \n",
    "    points = np.array(list(points))\n",
    "    \n",
    "    # Generate a unit disk graph by thresholding distances between points.\n",
    "    distances = np.sqrt((points[:,0] - points[:,0,None])**2 + (points[:,1] - points[:,1,None])**2)\n",
    "    graph     = nx.Graph(distances<np.sqrt(np.sqrt(2))+1E-10)\n",
    "    \n",
    "    graph.remove_edges_from(nx.selfloop_edges(graph))\n",
    "    return points, graph\n",
    "\n",
    "# Make a small king's graph\n",
    "pos,small_G = kings_graph(8,3,0.7,seed = 1)\n",
    "\n",
    "fig = plt.figure(figsize=(10,10))\n",
    "ax = plt.subplot(1,1,1)\n",
    "visualize_graph(ax,small_G,pos)\n",
    "plt.show()"
   ]
  },
  {
   "cell_type": "code",
   "execution_count": 54,
   "id": "840e1d45-3e22-40f8-9ab9-b1b0e6d55aca",
   "metadata": {},
   "outputs": [],
   "source": [
    "def find_UDG_radius(position, graph):\n",
    "    '''\n",
    "    Computes the optimal unit disk radius for a particular set of positions and graph.\n",
    "    position   - [N x 2] array of points\n",
    "    graph       - network connectivity graph. This should be a unit disk graph.\n",
    "    \n",
    "    returns\n",
    "    radius      - Optimal unit disk radius of the graph\n",
    "    rmin        - Minimum distance\n",
    "    rmax        - Maximum distance\n",
    "    '''\n",
    "    \n",
    "    dists = np.sqrt((position[:,0,None] - position[:,0])**2\n",
    "               + (position[:,1,None] - position[:,1])**2)\n",
    "    rmin = 0\n",
    "    rmax = np.inf\n",
    "    for i in range(position.shape[0]):\n",
    "        for j in range(i+1,position.shape[0]):\n",
    "            if (i,j) in graph.edges:\n",
    "                if rmin<dists[i,j]:\n",
    "                    rmin = dists[i,j]\n",
    "            elif (i,j) not in graph.edges:\n",
    "                if rmax>dists[i,j]:\n",
    "                    rmax = dists[i,j]\n",
    "    \n",
    "    if rmin>rmax:\n",
    "        print(rmin,rmax)\n",
    "        raise BaseException(\"Graph is not a unit disk graph!\")\n",
    "    \n",
    "    return np.sqrt(rmin*rmax),rmin,rmax\n",
    "\n",
    "# Find unit disk radius\n",
    "unitdisk_radius,min_radius,max_radius = find_UDG_radius(pos,small_G)"
   ]
  },
  {
   "cell_type": "code",
   "execution_count": 55,
   "id": "793dd208-c0f4-4d88-b163-982751c0ea3a",
   "metadata": {},
   "outputs": [
    {
     "name": "stdout",
     "output_type": "stream",
     "text": [
      "Blockade radius of Rydberg system is 8.044e-06m\n",
      "Unit disk radius of logical graph is 1.189\n"
     ]
    }
   ],
   "source": [
    "from iquhack_utils import get_blockade_radius,C6\n",
    "Delta_final = 20e6 # rad/sec\n",
    "\n",
    "# Find blockade radius\n",
    "blockade_radius = get_blockade_radius(Delta_final, 0) # no rabi amplitude at the end\n",
    "print('Blockade radius of Rydberg system is {:0.3e}m'.format(blockade_radius))\n",
    "print('Unit disk radius of logical graph is {:0.3f}'.format(unitdisk_radius))\n",
    "\n",
    "# Compute scaling value a, which converts between logical and physical coordinates\n",
    "logical_radius = 1 #unitdisk_radius\n",
    "a = blockade_radius / logical_radius\n",
    "\n",
    "# Generate the atom register\n",
    "from braket.ahs.atom_arrangement import AtomArrangement\n",
    "small_register = AtomArrangement()\n",
    "for x in pos:\n",
    "    small_register.add((a * x).round(7))\n",
    "    \n",
    "    \n",
    "from plotting import show_register\n",
    "a_scale=1.5#1.188\n",
    "#show_register(small_register,blockade_radius=blockade_radius)\n"
   ]
  },
  {
   "cell_type": "code",
   "execution_count": 56,
   "id": "b6f33be5-a6a4-4491-aa74-848f850b8da8",
   "metadata": {},
   "outputs": [],
   "source": [
    "# Define a set of time points\n",
    "time_points = [0, 0.6e-6, 3.4e-6, 4e-6]\n",
    "\n",
    "# Define the strength of the transverse field Ω\n",
    "amplitude_min = 0\n",
    "amplitude_max = 10e6  # rad / sec\n",
    "\n",
    "# Define the strength of the detuning Δ\n",
    "Delta_initial = -20e6     # rad / sec\n",
    "Delta_final = Delta_final # Defined above\n",
    "\n",
    "# Define the total drive\n",
    "from quera_ahs_utils.plotting import show_global_drive\n",
    "from quera_ahs_utils.drive import get_drive \n",
    "\n",
    "amplitude_values = [amplitude_min, amplitude_max, amplitude_max, amplitude_min]  # piecewise linear\n",
    "detuning_values = [Delta_initial, Delta_initial, Delta_final, Delta_final]  # piecewise linear\n",
    "phase_values = [0, 0, 0, 0]  # piecewise constant\n",
    "\n",
    "\n",
    "# Define the drive\n",
    "drive = get_drive(time_points, amplitude_values, detuning_values, phase_values)\n",
    "#show_global_drive(drive);"
   ]
  },
  {
   "cell_type": "code",
   "execution_count": 57,
   "id": "93a36336-6730-419a-a7d1-5720a5dc7232",
   "metadata": {},
   "outputs": [
    {
     "name": "stdout",
     "output_type": "stream",
     "text": [
      "You have 93 atoms in your graph\n",
      "Lattice constant is 6.765um\n"
     ]
    }
   ],
   "source": [
    "from braket.ahs.analog_hamiltonian_simulation import AnalogHamiltonianSimulation\n",
    "pos,G = kings_graph(8,3,0.7,seed = 1)\n",
    "#pos,small_G = kings_graph(8,3,0.7,seed = 1)\n",
    "\n",
    "\n",
    "# Determine the scaling factor a\n",
    "blockade_radius = (C6/(Delta_final))**(1/6)\n",
    "unitdisk_radius,min_radius,max_radius = find_UDG_radius(pos,G)\n",
    "a = blockade_radius / unitdisk_radius\n",
    "\n",
    "\n",
    "print('Lattice constant is {:0.3f}um'.format(a*1e6))\n",
    "register = AtomArrangement()\n",
    "for x in pos:\n",
    "    register.add([round(a * x[0],7), round(a*x[1],7)])\n",
    "#show_register(register,blockade_radius = blockade_radius,show_atom_index=False)\n",
    "\n",
    "ahs_program = AnalogHamiltonianSimulation(\n",
    "    register=register, \n",
    "    hamiltonian=drive\n",
    ")"
   ]
  },
  {
   "cell_type": "code",
   "execution_count": 58,
   "id": "66cc6d58-e912-4f2c-96f0-638ce6e0129b",
   "metadata": {},
   "outputs": [],
   "source": [
    "def save_result_json(json_file,result):\n",
    "    '''\n",
    "    Helper function to save results locally\n",
    "    '''\n",
    "    result_dict = {\"measurements\":[]}\n",
    "    for measurement in result.measurements:\n",
    "        shot_result = {\n",
    "            \"pre_sequence\":[int(qubit) for qubit in measurement.pre_sequence],\n",
    "            \"post_sequence\":[int(qubit) for qubit in measurement.post_sequence]\n",
    "                      } \n",
    "        result_dict[\"measurements\"].append(shot_result)\n",
    "        \n",
    "    with open(json_file,\"w\") as io:\n",
    "        json.dump(result_dict,io,indent=2)\n",
    "        \n",
    "def open_json(json_file):\n",
    "    '''\n",
    "    Helper function to load and open json data\n",
    "    '''\n",
    "    with open(json_file,\"r\") as io:\n",
    "        return json.load(io)"
   ]
  },
  {
   "cell_type": "markdown",
   "id": "47665af2-f2da-47e5-af1b-dead28e5bbd3",
   "metadata": {
    "tags": []
   },
   "source": [
    "# Simulator"
   ]
  },
  {
   "cell_type": "code",
   "execution_count": 49,
   "id": "47896096-88e7-4fed-81d2-84bbb6210209",
   "metadata": {},
   "outputs": [
    {
     "ename": "NameError",
     "evalue": "name 'open_json' is not defined",
     "output_type": "error",
     "traceback": [
      "\u001b[0;31m---------------------------------------------------------------------------\u001b[0m",
      "\u001b[0;31mNameError\u001b[0m                                 Traceback (most recent call last)",
      "Cell \u001b[0;32mIn[49], line 1\u001b[0m\n\u001b[0;32m----> 1\u001b[0m result_json \u001b[38;5;241m=\u001b[39m \u001b[43mopen_json\u001b[49m(\u001b[38;5;124m\"\u001b[39m\u001b[38;5;124msmall_kings_graph_mis.json\u001b[39m\u001b[38;5;124m\"\u001b[39m)\n\u001b[1;32m      2\u001b[0m nmeas \u001b[38;5;241m=\u001b[39m \u001b[38;5;28mlen\u001b[39m(result_json[\u001b[38;5;124m\"\u001b[39m\u001b[38;5;124mmeasurements\u001b[39m\u001b[38;5;124m\"\u001b[39m])    \n\u001b[1;32m      3\u001b[0m seqs \u001b[38;5;241m=\u001b[39m [result_json[\u001b[38;5;124m\"\u001b[39m\u001b[38;5;124mmeasurements\u001b[39m\u001b[38;5;124m\"\u001b[39m][i][\u001b[38;5;124m\"\u001b[39m\u001b[38;5;124mpost_sequence\u001b[39m\u001b[38;5;124m\"\u001b[39m] \u001b[38;5;28;01mfor\u001b[39;00m i \u001b[38;5;129;01min\u001b[39;00m [\u001b[38;5;241m0\u001b[39m,\u001b[38;5;241m1\u001b[39m,nmeas\u001b[38;5;241m-\u001b[39m\u001b[38;5;241m1\u001b[39m]]\n",
      "\u001b[0;31mNameError\u001b[0m: name 'open_json' is not defined"
     ]
    }
   ],
   "source": [
    "from braket.devices import LocalSimulator\n",
    "device = LocalSimulator(\"braket_ahs\")\n",
    "\n",
    "raise BaseException(\"Are you sure you want to run the simulator?\")\n",
    "ahs_run = device.run(ahs_program, shots=2)\n",
    "\n",
    "# Results are loaded and saved to file\n",
    "result  = ahs_run.result()\n",
    "save_result_json(\"small_kings_graph_mis.json\",result)\n",
    "\n",
    "result_json = open_json(\"small_kings_graph_mis.json\")\n",
    "nmeas = len(result_json[\"measurements\"])    \n",
    "seqs = [result_json[\"measurements\"][i][\"post_sequence\"] for i in [0,1,nmeas-1]]\n",
    "\n",
    "fig = plt.figure(figsize=(25,15))\n",
    "for i in range(3):\n",
    "    ax = plt.subplot(1,3,i+1)\n",
    "    \n",
    "    color_lookup = {0:\"r\",1:'k'}\n",
    "    seqs_color = [color_lookup[seqs[i][j]] for j in range(len(seqs[i]))]\n",
    "    #visualize_graph(ax,small_G,pos,node_colors = seqs_color)\n",
    "    \n",
    "#plt.show()"
   ]
  },
  {
   "cell_type": "markdown",
   "id": "01fe20c5-124a-480d-8ef6-b0eb627b8b68",
   "metadata": {
    "tags": []
   },
   "source": [
    "# Hardware"
   ]
  },
  {
   "cell_type": "code",
   "execution_count": null,
   "id": "0bba5cfa-a6fc-428c-a4dc-5a5a0f142b56",
   "metadata": {},
   "outputs": [],
   "source": [
    "pos,G = kings_graph(8,3,0.7,seed = 1)\n",
    "\n",
    "# Determine the scaling factor a\n",
    "blockade_radius = (C6/(Delta_final))**(1/6)\n",
    "unitdisk_radius,min_radius,max_radius = find_UDG_radius(pos,G)\n",
    "a = blockade_radius / unitdisk_radius\n",
    "\n",
    "\n",
    "print('Lattice constant is {:0.3f}um'.format(a*1e6))\n",
    "register = AtomArrangement()\n",
    "for x in pos:\n",
    "    register.add([round(a * x[0],7), round(a*x[1],7)])\n",
    "show_register(register,blockade_radius = blockade_radius,show_atom_index=False)\n",
    "\n",
    "ahs_program = AnalogHamiltonianSimulation(\n",
    "    register=register, \n",
    "    hamiltonian=drive\n",
    ")"
   ]
  },
  {
   "cell_type": "code",
   "execution_count": 35,
   "id": "b1172428-9d58-4394-bad2-44b723f25aca",
   "metadata": {},
   "outputs": [
    {
     "ename": "BaseException",
     "evalue": "Only run this cell when you are ready to submit your job.",
     "output_type": "error",
     "traceback": [
      "\u001b[0;31m---------------------------------------------------------------------------\u001b[0m",
      "\u001b[0;31mBaseException\u001b[0m                             Traceback (most recent call last)",
      "Cell \u001b[0;32mIn[35], line 1\u001b[0m\n\u001b[0;32m----> 1\u001b[0m \u001b[38;5;28;01mraise\u001b[39;00m \u001b[38;5;167;01mBaseException\u001b[39;00m(\u001b[38;5;124m\"\u001b[39m\u001b[38;5;124mOnly run this cell when you are ready to submit your job.\u001b[39m\u001b[38;5;124m\"\u001b[39m)\n\u001b[1;32m      2\u001b[0m \u001b[38;5;28;01mfrom\u001b[39;00m \u001b[38;5;21;01mbraket\u001b[39;00m\u001b[38;5;21;01m.\u001b[39;00m\u001b[38;5;21;01maws\u001b[39;00m \u001b[38;5;28;01mimport\u001b[39;00m AwsDevice\n\u001b[1;32m      3\u001b[0m qpu \u001b[38;5;241m=\u001b[39m AwsDevice(\u001b[38;5;124m\"\u001b[39m\u001b[38;5;124marn:aws:braket:us-east-1::device/qpu/quera/Aquila\u001b[39m\u001b[38;5;124m\"\u001b[39m)\n",
      "\u001b[0;31mBaseException\u001b[0m: Only run this cell when you are ready to submit your job."
     ]
    }
   ],
   "source": [
    "raise BaseException(\"Only run this cell when you are ready to submit your job.\")\n",
    "from braket.aws import AwsDevice\n",
    "qpu = AwsDevice(\"arn:aws:braket:us-east-1::device/qpu/quera/Aquila\")\n",
    "\n",
    "nshots = 100\n",
    "assert nshots <= 100\n",
    "task = qpu.run(ahs_program, shots=nshots)\n",
    "print(task)\n",
    "\n",
    "save_result_json(\"large_kings_graph_mis.json\",task.result())"
   ]
  },
  {
   "cell_type": "code",
   "execution_count": 61,
   "id": "30741f66-2208-4772-87e6-8c8bce3aa752",
   "metadata": {},
   "outputs": [],
   "source": [
    "def postprocess_MIS(G,results):\n",
    "    '''\n",
    "    Removes vertices that violate the independent set condition\n",
    "    G - networkx graph\n",
    "    results - an AWS AnalogHamiltonianSimulationQuantumTaskResult\n",
    "    \n",
    "    returns\n",
    "    data_out - a list of bitstrings which are valid independent sets of G\n",
    "    '''\n",
    "    data_out = []\n",
    "    for measurement in results[\"measurements\"]: # For each measurement...\n",
    "        pre_sequence = np.array(measurement[\"pre_sequence\"])\n",
    "        post_sequence = np.array(measurement[\"post_sequence\"])\n",
    "        if np.any(pre_sequence==0): continue # skip anyshots with defects\n",
    "            \n",
    "        bitstring = post_sequence\n",
    "        inds = np.nonzero(bitstring==0)[0]    # Find indices of IS vertices\n",
    "        subgraph = nx.subgraph(G,inds)        # Generate a subgraph from those vertices. If the bitstring is an independent set, this subgraph has no edges.\n",
    "        inds2 = nx.maximal_independent_set(subgraph,seed=0) # Find the mIS of this subgraph. If there are no edges, it is the original bitstring. Else, it randomly chooses within each graph.\n",
    "        payload = np.ones(len(bitstring))     # Forge into the correct data structure (a list of 1s and 0s)\n",
    "        payload[inds2] = 0\n",
    "        data_out.append(payload)\n",
    "        \n",
    "    if len(data_out) == 0: \n",
    "        raise ValueError(\"no independent sets found! increase number of shots.\")\n",
    "        \n",
    "    return np.asarray(data_out)\n",
    "\n",
    "def analysis_MIS(graph,result_json):\n",
    "    '''\n",
    "    Helper function to analyze a MIS result and plot data\n",
    "    '''\n",
    "\n",
    "    post_bitstrings = np.array([q[\"post_sequence\"] for q in result_json[\"measurements\"]])\n",
    "    pp_bitstrings = postprocess_MIS(graph, result_json)\n",
    "\n",
    "\n",
    "    IS_sizes = np.sum(1-pp_bitstrings,axis=1)\n",
    "    unique_IS_sizes,counts = np.unique(IS_sizes,return_counts=True)\n",
    "\n",
    "\n",
    "    avg_no_pp = 'Average pre-processed size:  {:0.4f}'.format( (1-post_bitstrings).sum(axis=1).mean() )\n",
    "    avg_pp = 'Average post-processed IS size: {:0.4f}'.format(IS_sizes.mean())\n",
    "    print(avg_no_pp)\n",
    "    print(avg_pp)\n",
    "    plt.bar(unique_IS_sizes,counts/counts.sum())\n",
    "    plt.xticks(unique_IS_sizes)\n",
    "    plt.xlabel(\"IS sizes\",fontsize=14)\n",
    "    plt.ylabel(\"probability\",fontsize=14)\n",
    "    plt.show()\n",
    "    \n",
    "    return IS_sizes,pp_bitstrings\n",
    "    \n",
    "\n"
   ]
  },
  {
   "cell_type": "code",
   "execution_count": 62,
   "id": "7e19cc11-f695-4ac5-aa6c-eb29fb983954",
   "metadata": {},
   "outputs": [
    {
     "name": "stdout",
     "output_type": "stream",
     "text": [
      "Average pre-processed size:  7.5600\n",
      "Average post-processed IS size: 7.5054\n"
     ]
    },
    {
     "data": {
      "image/png": "[encoded data removed]",
      "text/plain": [
       "<Figure size 432x288 with 1 Axes>"
      ]
     },
     "metadata": {
      "needs_background": "light"
     },
     "output_type": "display_data"
    },
    {
     "data": {
      "image/png": "[encoded data removed]",
      "text/plain": [
       "<Figure size 1800x1080 with 3 Axes>"
      ]
     },
     "metadata": {},
     "output_type": "display_data"
    }
   ],
   "source": [
    "result_json = open_json(\"large_kings_graph_mis.json\")\n",
    "IS_sizes,pp_bitstrings = analysis_MIS(small_G,result_json)\n",
    "\n",
    "ind, = np.where(IS_sizes==IS_sizes.max())\n",
    "n_show = min(len(ind),3)\n",
    "\n",
    "fig = plt.figure(figsize=(25,15))\n",
    "for i in range(n_show):\n",
    "    ax = plt.subplot(1,n_show,i+1)\n",
    "\n",
    "    color_lookup = {0:\"r\",1:'k'}\n",
    "    seqs_color = [color_lookup[pp_bitstrings[ind[i]][j]] for j in range(len(pp_bitstrings[ind[i]]))]\n",
    "    visualize_graph(ax,small_G,pos,node_colors = seqs_color)\n",
    "    \n",
    "plt.show()\n",
    "    \n",
    "\n"
   ]
  },
  {
   "cell_type": "code",
   "execution_count": 60,
   "id": "531b7244-2059-4931-be14-da7e3f0113ae",
   "metadata": {},
   "outputs": [
    {
     "data": {
      "image/png": "[encoded data removed]",
      "text/plain": [
       "<Figure size 1800x1080 with 3 Axes>"
      ]
     },
     "metadata": {},
     "output_type": "display_data"
    }
   ],
   "source": [
    "result_json = open_json(\"large_kings_graph_mis.json\")\n",
    "nmeas = len(result_json[\"measurements\"])\n",
    "seqs = [result_json[\"measurements\"][i][\"post_sequence\"] for i in [0,nmeas-2,nmeas-1]]\n",
    "\n",
    "fig = plt.figure(figsize=(25,15))\n",
    "for i in range(3):\n",
    "    ax = plt.subplot(1,3,i+1)\n",
    "    \n",
    "    color_lookup = {0:\"r\",1:'k'}\n",
    "    seqs_color = [color_lookup[seqs[i][j]] for j in range(len(seqs[i]))]\n",
    "    visualize_graph(ax,G,pos,node_colors = seqs_color)\n",
    "plt.show()"
   ]
  },
  {
   "cell_type": "code",
   "execution_count": null,
   "id": "fef271f4-8983-410b-b849-04fdeb231624",
   "metadata": {},
   "outputs": [],
   "source": []
  }
 ],
 "metadata": {
  "kernelspec": {
   "display_name": "Python 3 [Braket]",
   "language": "python",
   "name": "python3_aws_braket_kwx6dl"
  },
  "language_info": {
   "codemirror_mode": {
    "name": "ipython",
    "version": 3
   },
   "file_extension": ".py",
   "mimetype": "text/x-python",
   "name": "python",
   "nbconvert_exporter": "python",
   "pygments_lexer": "ipython3",
   "version": "3.9.10"
  }
 },
 "nbformat": 4,
 "nbformat_minor": 5
}
